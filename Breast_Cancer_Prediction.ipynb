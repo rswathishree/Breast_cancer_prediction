{
  "nbformat": 4,
  "nbformat_minor": 0,
  "metadata": {
    "colab": {
      "name": "Untitled2.ipynb",
      "provenance": [],
      "collapsed_sections": []
    },
    "kernelspec": {
      "display_name": "Python 3",
      "name": "python3"
    },
    "language_info": {
      "name": "python"
    }
  },
  "cells": [
    {
      "cell_type": "code",
      "metadata": {
        "id": "ZPT6-kw5jZlW"
      },
      "source": [
        "import pandas as pd\n",
        "import numpy as np\n",
        "\n",
        "from sklearn.datasets import load_breast_cancer\n",
        "from sklearn.preprocessing import StandardScaler\n",
        "\n",
        "from keras.models import Sequential\n",
        "from keras.layers import Dense"
      ],
      "execution_count": 1,
      "outputs": []
    },
    {
      "cell_type": "code",
      "metadata": {
        "id": "AaHIoBSBjugV"
      },
      "source": [
        "data = load_breast_cancer()"
      ],
      "execution_count": 2,
      "outputs": []
    },
    {
      "cell_type": "code",
      "metadata": {
        "colab": {
          "base_uri": "https://localhost:8080/"
        },
        "id": "z6iIyukdjz9e",
        "outputId": "c904a731-ffc1-44bd-c741-ee373d97ca92"
      },
      "source": [
        "data.keys()"
      ],
      "execution_count": null,
      "outputs": [
        {
          "output_type": "execute_result",
          "data": {
            "text/plain": [
              "dict_keys(['data', 'target', 'target_names', 'DESCR', 'feature_names', 'filename'])"
            ]
          },
          "metadata": {},
          "execution_count": 3
        }
      ]
    },
    {
      "cell_type": "code",
      "metadata": {
        "colab": {
          "base_uri": "https://localhost:8080/"
        },
        "id": "H5UYFgsNj0sO",
        "outputId": "faa2761f-cf7d-483b-e831-31589669e2af"
      },
      "source": [
        "print(data['DESCR'])"
      ],
      "execution_count": null,
      "outputs": [
        {
          "output_type": "stream",
          "name": "stdout",
          "text": [
            ".. _breast_cancer_dataset:\n",
            "\n",
            "Breast cancer wisconsin (diagnostic) dataset\n",
            "--------------------------------------------\n",
            "\n",
            "**Data Set Characteristics:**\n",
            "\n",
            "    :Number of Instances: 569\n",
            "\n",
            "    :Number of Attributes: 30 numeric, predictive attributes and the class\n",
            "\n",
            "    :Attribute Information:\n",
            "        - radius (mean of distances from center to points on the perimeter)\n",
            "        - texture (standard deviation of gray-scale values)\n",
            "        - perimeter\n",
            "        - area\n",
            "        - smoothness (local variation in radius lengths)\n",
            "        - compactness (perimeter^2 / area - 1.0)\n",
            "        - concavity (severity of concave portions of the contour)\n",
            "        - concave points (number of concave portions of the contour)\n",
            "        - symmetry \n",
            "        - fractal dimension (\"coastline approximation\" - 1)\n",
            "\n",
            "        The mean, standard error, and \"worst\" or largest (mean of the three\n",
            "        largest values) of these features were computed for each image,\n",
            "        resulting in 30 features.  For instance, field 3 is Mean Radius, field\n",
            "        13 is Radius SE, field 23 is Worst Radius.\n",
            "\n",
            "        - class:\n",
            "                - WDBC-Malignant\n",
            "                - WDBC-Benign\n",
            "\n",
            "    :Summary Statistics:\n",
            "\n",
            "    ===================================== ====== ======\n",
            "                                           Min    Max\n",
            "    ===================================== ====== ======\n",
            "    radius (mean):                        6.981  28.11\n",
            "    texture (mean):                       9.71   39.28\n",
            "    perimeter (mean):                     43.79  188.5\n",
            "    area (mean):                          143.5  2501.0\n",
            "    smoothness (mean):                    0.053  0.163\n",
            "    compactness (mean):                   0.019  0.345\n",
            "    concavity (mean):                     0.0    0.427\n",
            "    concave points (mean):                0.0    0.201\n",
            "    symmetry (mean):                      0.106  0.304\n",
            "    fractal dimension (mean):             0.05   0.097\n",
            "    radius (standard error):              0.112  2.873\n",
            "    texture (standard error):             0.36   4.885\n",
            "    perimeter (standard error):           0.757  21.98\n",
            "    area (standard error):                6.802  542.2\n",
            "    smoothness (standard error):          0.002  0.031\n",
            "    compactness (standard error):         0.002  0.135\n",
            "    concavity (standard error):           0.0    0.396\n",
            "    concave points (standard error):      0.0    0.053\n",
            "    symmetry (standard error):            0.008  0.079\n",
            "    fractal dimension (standard error):   0.001  0.03\n",
            "    radius (worst):                       7.93   36.04\n",
            "    texture (worst):                      12.02  49.54\n",
            "    perimeter (worst):                    50.41  251.2\n",
            "    area (worst):                         185.2  4254.0\n",
            "    smoothness (worst):                   0.071  0.223\n",
            "    compactness (worst):                  0.027  1.058\n",
            "    concavity (worst):                    0.0    1.252\n",
            "    concave points (worst):               0.0    0.291\n",
            "    symmetry (worst):                     0.156  0.664\n",
            "    fractal dimension (worst):            0.055  0.208\n",
            "    ===================================== ====== ======\n",
            "\n",
            "    :Missing Attribute Values: None\n",
            "\n",
            "    :Class Distribution: 212 - Malignant, 357 - Benign\n",
            "\n",
            "    :Creator:  Dr. William H. Wolberg, W. Nick Street, Olvi L. Mangasarian\n",
            "\n",
            "    :Donor: Nick Street\n",
            "\n",
            "    :Date: November, 1995\n",
            "\n",
            "This is a copy of UCI ML Breast Cancer Wisconsin (Diagnostic) datasets.\n",
            "https://goo.gl/U2Uwz2\n",
            "\n",
            "Features are computed from a digitized image of a fine needle\n",
            "aspirate (FNA) of a breast mass.  They describe\n",
            "characteristics of the cell nuclei present in the image.\n",
            "\n",
            "Separating plane described above was obtained using\n",
            "Multisurface Method-Tree (MSM-T) [K. P. Bennett, \"Decision Tree\n",
            "Construction Via Linear Programming.\" Proceedings of the 4th\n",
            "Midwest Artificial Intelligence and Cognitive Science Society,\n",
            "pp. 97-101, 1992], a classification method which uses linear\n",
            "programming to construct a decision tree.  Relevant features\n",
            "were selected using an exhaustive search in the space of 1-4\n",
            "features and 1-3 separating planes.\n",
            "\n",
            "The actual linear program used to obtain the separating plane\n",
            "in the 3-dimensional space is that described in:\n",
            "[K. P. Bennett and O. L. Mangasarian: \"Robust Linear\n",
            "Programming Discrimination of Two Linearly Inseparable Sets\",\n",
            "Optimization Methods and Software 1, 1992, 23-34].\n",
            "\n",
            "This database is also available through the UW CS ftp server:\n",
            "\n",
            "ftp ftp.cs.wisc.edu\n",
            "cd math-prog/cpo-dataset/machine-learn/WDBC/\n",
            "\n",
            ".. topic:: References\n",
            "\n",
            "   - W.N. Street, W.H. Wolberg and O.L. Mangasarian. Nuclear feature extraction \n",
            "     for breast tumor diagnosis. IS&T/SPIE 1993 International Symposium on \n",
            "     Electronic Imaging: Science and Technology, volume 1905, pages 861-870,\n",
            "     San Jose, CA, 1993.\n",
            "   - O.L. Mangasarian, W.N. Street and W.H. Wolberg. Breast cancer diagnosis and \n",
            "     prognosis via linear programming. Operations Research, 43(4), pages 570-577, \n",
            "     July-August 1995.\n",
            "   - W.H. Wolberg, W.N. Street, and O.L. Mangasarian. Machine learning techniques\n",
            "     to diagnose breast cancer from fine-needle aspirates. Cancer Letters 77 (1994) \n",
            "     163-171.\n"
          ]
        }
      ]
    },
    {
      "cell_type": "code",
      "metadata": {
        "colab": {
          "base_uri": "https://localhost:8080/"
        },
        "id": "N599oZyOj4Au",
        "outputId": "18181f7e-37c3-4c83-91a8-787fad2188bd"
      },
      "source": [
        "data['data'].shape"
      ],
      "execution_count": null,
      "outputs": [
        {
          "output_type": "execute_result",
          "data": {
            "text/plain": [
              "(569, 30)"
            ]
          },
          "metadata": {},
          "execution_count": 4
        }
      ]
    },
    {
      "cell_type": "code",
      "metadata": {
        "colab": {
          "base_uri": "https://localhost:8080/"
        },
        "id": "tFcU6mllkAta",
        "outputId": "11e98663-2b7c-4454-951e-8b87993962a5"
      },
      "source": [
        "data['feature_names']"
      ],
      "execution_count": null,
      "outputs": [
        {
          "output_type": "execute_result",
          "data": {
            "text/plain": [
              "array(['mean radius', 'mean texture', 'mean perimeter', 'mean area',\n",
              "       'mean smoothness', 'mean compactness', 'mean concavity',\n",
              "       'mean concave points', 'mean symmetry', 'mean fractal dimension',\n",
              "       'radius error', 'texture error', 'perimeter error', 'area error',\n",
              "       'smoothness error', 'compactness error', 'concavity error',\n",
              "       'concave points error', 'symmetry error',\n",
              "       'fractal dimension error', 'worst radius', 'worst texture',\n",
              "       'worst perimeter', 'worst area', 'worst smoothness',\n",
              "       'worst compactness', 'worst concavity', 'worst concave points',\n",
              "       'worst symmetry', 'worst fractal dimension'], dtype='<U23')"
            ]
          },
          "metadata": {},
          "execution_count": 6
        }
      ]
    },
    {
      "cell_type": "code",
      "metadata": {
        "colab": {
          "base_uri": "https://localhost:8080/"
        },
        "id": "kQhyWt0CkCWO",
        "outputId": "bbabb734-70fa-4316-baa9-f11dcfb9cf9b"
      },
      "source": [
        "\n",
        "data['data'][0]"
      ],
      "execution_count": null,
      "outputs": [
        {
          "output_type": "execute_result",
          "data": {
            "text/plain": [
              "array([1.799e+01, 1.038e+01, 1.228e+02, 1.001e+03, 1.184e-01, 2.776e-01,\n",
              "       3.001e-01, 1.471e-01, 2.419e-01, 7.871e-02, 1.095e+00, 9.053e-01,\n",
              "       8.589e+00, 1.534e+02, 6.399e-03, 4.904e-02, 5.373e-02, 1.587e-02,\n",
              "       3.003e-02, 6.193e-03, 2.538e+01, 1.733e+01, 1.846e+02, 2.019e+03,\n",
              "       1.622e-01, 6.656e-01, 7.119e-01, 2.654e-01, 4.601e-01, 1.189e-01])"
            ]
          },
          "metadata": {},
          "execution_count": 7
        }
      ]
    },
    {
      "cell_type": "code",
      "metadata": {
        "colab": {
          "base_uri": "https://localhost:8080/"
        },
        "id": "fNt9--rakM3p",
        "outputId": "64546bcb-1d8c-4b5f-8a5a-91c3f0e53bc5"
      },
      "source": [
        "j = 0\n",
        "for i in data['feature_names']:\n",
        "  print(i,\":\",data['data'][0][j])\n",
        "  j+=1"
      ],
      "execution_count": null,
      "outputs": [
        {
          "output_type": "stream",
          "name": "stdout",
          "text": [
            "mean radius : 17.99\n",
            "mean texture : 10.38\n",
            "mean perimeter : 122.8\n",
            "mean area : 1001.0\n",
            "mean smoothness : 0.1184\n",
            "mean compactness : 0.2776\n",
            "mean concavity : 0.3001\n",
            "mean concave points : 0.1471\n",
            "mean symmetry : 0.2419\n",
            "mean fractal dimension : 0.07871\n",
            "radius error : 1.095\n",
            "texture error : 0.9053\n",
            "perimeter error : 8.589\n",
            "area error : 153.4\n",
            "smoothness error : 0.006399\n",
            "compactness error : 0.04904\n",
            "concavity error : 0.05373\n",
            "concave points error : 0.01587\n",
            "symmetry error : 0.03003\n",
            "fractal dimension error : 0.006193\n",
            "worst radius : 25.38\n",
            "worst texture : 17.33\n",
            "worst perimeter : 184.6\n",
            "worst area : 2019.0\n",
            "worst smoothness : 0.1622\n",
            "worst compactness : 0.6656\n",
            "worst concavity : 0.7119\n",
            "worst concave points : 0.2654\n",
            "worst symmetry : 0.4601\n",
            "worst fractal dimension : 0.1189\n"
          ]
        }
      ]
    },
    {
      "cell_type": "code",
      "metadata": {
        "id": "zAKOrj3nkORi"
      },
      "source": [
        "feature = data['data']"
      ],
      "execution_count": 3,
      "outputs": []
    },
    {
      "cell_type": "code",
      "metadata": {
        "id": "ufZjW-QokQn4"
      },
      "source": [
        "label = data['target']"
      ],
      "execution_count": 4,
      "outputs": []
    },
    {
      "cell_type": "code",
      "metadata": {
        "colab": {
          "base_uri": "https://localhost:8080/"
        },
        "id": "bZNmybiDkSmM",
        "outputId": "ff0a1b90-d5fc-4f9b-e116-f1a9b0401e99"
      },
      "source": [
        "data['target_names']"
      ],
      "execution_count": null,
      "outputs": [
        {
          "output_type": "execute_result",
          "data": {
            "text/plain": [
              "array(['malignant', 'benign'], dtype='<U9')"
            ]
          },
          "metadata": {},
          "execution_count": 7
        }
      ]
    },
    {
      "cell_type": "code",
      "metadata": {
        "colab": {
          "base_uri": "https://localhost:8080/"
        },
        "id": "hSXzD8pukUmq",
        "outputId": "1b1554af-6d4a-4d13-e452-23897bb065a2"
      },
      "source": [
        "feature.shape"
      ],
      "execution_count": null,
      "outputs": [
        {
          "output_type": "execute_result",
          "data": {
            "text/plain": [
              "(569, 30)"
            ]
          },
          "metadata": {},
          "execution_count": 12
        }
      ]
    },
    {
      "cell_type": "code",
      "metadata": {
        "colab": {
          "base_uri": "https://localhost:8080/"
        },
        "id": "bUzYPdNMkX59",
        "outputId": "8e748825-baed-4ae8-c246-dbc736f58d90"
      },
      "source": [
        "label.shape"
      ],
      "execution_count": null,
      "outputs": [
        {
          "output_type": "execute_result",
          "data": {
            "text/plain": [
              "(569,)"
            ]
          },
          "metadata": {},
          "execution_count": 13
        }
      ]
    },
    {
      "cell_type": "code",
      "metadata": {
        "id": "JD7CZQybkYjp"
      },
      "source": [
        "scale = StandardScaler()\n",
        "\n",
        "feature = scale.fit_transform(feature)"
      ],
      "execution_count": 5,
      "outputs": []
    },
    {
      "cell_type": "code",
      "metadata": {
        "colab": {
          "base_uri": "https://localhost:8080/"
        },
        "id": "F5ppv49Akcam",
        "outputId": "1d4aad8f-fbad-47f1-a903-b57b4eaa522b"
      },
      "source": [
        "j = 0\n",
        "for i in data['feature_names']:\n",
        "  print(i,\":\",feature[0][j])\n",
        "  j+=1"
      ],
      "execution_count": null,
      "outputs": [
        {
          "output_type": "stream",
          "name": "stdout",
          "text": [
            "mean radius : 1.0970639814699807\n",
            "mean texture : -2.0733350146975935\n",
            "mean perimeter : 1.2699336881399383\n",
            "mean area : 0.9843749048031144\n",
            "mean smoothness : 1.568466329243428\n",
            "mean compactness : 3.2835146709868264\n",
            "mean concavity : 2.652873983743168\n",
            "mean concave points : 2.532475216403245\n",
            "mean symmetry : 2.2175150059646405\n",
            "mean fractal dimension : 2.255746885296269\n",
            "radius error : 2.4897339267376193\n",
            "texture error : -0.5652650590684639\n",
            "perimeter error : 2.833030865855184\n",
            "area error : 2.4875775569611043\n",
            "smoothness error : -0.21400164666895383\n",
            "compactness error : 1.3168615683959484\n",
            "concavity error : 0.72402615808036\n",
            "concave points error : 0.6608199414286064\n",
            "symmetry error : 1.1487566671861758\n",
            "fractal dimension error : 0.9070830809973359\n",
            "worst radius : 1.8866896251792757\n",
            "worst texture : -1.3592934737640827\n",
            "worst perimeter : 2.3036006236225606\n",
            "worst area : 2.0012374893299207\n",
            "worst smoothness : 1.3076862710715387\n",
            "worst compactness : 2.616665023512603\n",
            "worst concavity : 2.1095263465722556\n",
            "worst concave points : 2.296076127561788\n",
            "worst symmetry : 2.750622244124955\n",
            "worst fractal dimension : 1.9370146123781782\n"
          ]
        }
      ]
    },
    {
      "cell_type": "code",
      "metadata": {
        "colab": {
          "base_uri": "https://localhost:8080/"
        },
        "id": "FWVr19FdkdDc",
        "outputId": "54128983-63fc-4282-b47f-d931f971dbaf"
      },
      "source": [
        "print(feature[568])\n",
        "print(data['target_names'][label[568]],label[568])"
      ],
      "execution_count": null,
      "outputs": [
        {
          "output_type": "stream",
          "name": "stdout",
          "text": [
            "[-1.80840125  1.22179204 -1.81438851 -1.34778924 -3.11208479 -1.15075248\n",
            " -1.11487284 -1.26181958 -0.8200699  -0.56103238 -0.07027874  0.3830925\n",
            " -0.15744905 -0.46615196  0.04934236 -1.16351619 -1.05750068 -1.91344745\n",
            "  0.75282996 -0.382754   -1.41089258  0.76418957 -1.43273495 -1.07581292\n",
            " -1.85901852 -1.2075525  -1.30583065 -1.74506282 -0.04813821 -0.75120669]\n",
            "benign 1\n"
          ]
        }
      ]
    },
    {
      "cell_type": "code",
      "metadata": {
        "id": "ZtFRZJYEkg2W"
      },
      "source": [
        "df_frt = pd.DataFrame(feature , columns = data['feature_names'])\n",
        "df_lbl = pd.DataFrame(label , columns = ['label'])\n",
        "df = pd.concat([df_frt, df_lbl], axis=1)\n",
        "df = df.sample(frac = 1)\n",
        "\n",
        "feature = df.values[ : , : 30]\n",
        "label = df.values[ : ,30: ]"
      ],
      "execution_count": null,
      "outputs": []
    },
    {
      "cell_type": "code",
      "metadata": {
        "colab": {
          "base_uri": "https://localhost:8080/",
          "height": 470
        },
        "id": "XG9Frm13kha_",
        "outputId": "c1c23737-bd89-433c-90be-4e13cb0756aa"
      },
      "source": [
        "df"
      ],
      "execution_count": null,
      "outputs": [
        {
          "output_type": "execute_result",
          "data": {
            "text/html": [
              "<div>\n",
              "<style scoped>\n",
              "    .dataframe tbody tr th:only-of-type {\n",
              "        vertical-align: middle;\n",
              "    }\n",
              "\n",
              "    .dataframe tbody tr th {\n",
              "        vertical-align: top;\n",
              "    }\n",
              "\n",
              "    .dataframe thead th {\n",
              "        text-align: right;\n",
              "    }\n",
              "</style>\n",
              "<table border=\"1\" class=\"dataframe\">\n",
              "  <thead>\n",
              "    <tr style=\"text-align: right;\">\n",
              "      <th></th>\n",
              "      <th>mean radius</th>\n",
              "      <th>mean texture</th>\n",
              "      <th>mean perimeter</th>\n",
              "      <th>mean area</th>\n",
              "      <th>mean smoothness</th>\n",
              "      <th>mean compactness</th>\n",
              "      <th>mean concavity</th>\n",
              "      <th>mean concave points</th>\n",
              "      <th>mean symmetry</th>\n",
              "      <th>mean fractal dimension</th>\n",
              "      <th>radius error</th>\n",
              "      <th>texture error</th>\n",
              "      <th>perimeter error</th>\n",
              "      <th>area error</th>\n",
              "      <th>smoothness error</th>\n",
              "      <th>compactness error</th>\n",
              "      <th>concavity error</th>\n",
              "      <th>concave points error</th>\n",
              "      <th>symmetry error</th>\n",
              "      <th>fractal dimension error</th>\n",
              "      <th>worst radius</th>\n",
              "      <th>worst texture</th>\n",
              "      <th>worst perimeter</th>\n",
              "      <th>worst area</th>\n",
              "      <th>worst smoothness</th>\n",
              "      <th>worst compactness</th>\n",
              "      <th>worst concavity</th>\n",
              "      <th>worst concave points</th>\n",
              "      <th>worst symmetry</th>\n",
              "      <th>worst fractal dimension</th>\n",
              "      <th>label</th>\n",
              "    </tr>\n",
              "  </thead>\n",
              "  <tbody>\n",
              "    <tr>\n",
              "      <th>54</th>\n",
              "      <td>0.276263</td>\n",
              "      <td>0.635371</td>\n",
              "      <td>0.217936</td>\n",
              "      <td>0.164705</td>\n",
              "      <td>-0.412780</td>\n",
              "      <td>-0.635462</td>\n",
              "      <td>-0.455360</td>\n",
              "      <td>-0.401848</td>\n",
              "      <td>-0.714193</td>\n",
              "      <td>-0.844553</td>\n",
              "      <td>-0.341691</td>\n",
              "      <td>-0.694809</td>\n",
              "      <td>-0.380708</td>\n",
              "      <td>-0.229414</td>\n",
              "      <td>-0.788692</td>\n",
              "      <td>-0.848299</td>\n",
              "      <td>-0.525994</td>\n",
              "      <td>-0.417550</td>\n",
              "      <td>-1.161421</td>\n",
              "      <td>-0.819256</td>\n",
              "      <td>0.379129</td>\n",
              "      <td>0.979143</td>\n",
              "      <td>0.310928</td>\n",
              "      <td>0.262662</td>\n",
              "      <td>0.286310</td>\n",
              "      <td>-0.308942</td>\n",
              "      <td>-0.004742</td>\n",
              "      <td>0.584607</td>\n",
              "      <td>-0.365223</td>\n",
              "      <td>-0.289039</td>\n",
              "      <td>0</td>\n",
              "    </tr>\n",
              "    <tr>\n",
              "      <th>511</th>\n",
              "      <td>0.193899</td>\n",
              "      <td>-1.068042</td>\n",
              "      <td>0.110841</td>\n",
              "      <td>0.073409</td>\n",
              "      <td>-0.828386</td>\n",
              "      <td>-1.026810</td>\n",
              "      <td>-0.685995</td>\n",
              "      <td>-0.606394</td>\n",
              "      <td>-0.557202</td>\n",
              "      <td>-1.320868</td>\n",
              "      <td>-0.674821</td>\n",
              "      <td>-1.077091</td>\n",
              "      <td>-0.588621</td>\n",
              "      <td>-0.431609</td>\n",
              "      <td>-0.110997</td>\n",
              "      <td>-0.754964</td>\n",
              "      <td>-0.566114</td>\n",
              "      <td>-0.200513</td>\n",
              "      <td>-0.574190</td>\n",
              "      <td>-0.762518</td>\n",
              "      <td>-0.136507</td>\n",
              "      <td>-1.318583</td>\n",
              "      <td>-0.165645</td>\n",
              "      <td>-0.211623</td>\n",
              "      <td>-0.809587</td>\n",
              "      <td>-0.974344</td>\n",
              "      <td>-0.777623</td>\n",
              "      <td>-0.533787</td>\n",
              "      <td>-0.916886</td>\n",
              "      <td>-1.248287</td>\n",
              "      <td>1</td>\n",
              "    </tr>\n",
              "    <tr>\n",
              "      <th>219</th>\n",
              "      <td>1.534446</td>\n",
              "      <td>3.067156</td>\n",
              "      <td>1.484123</td>\n",
              "      <td>1.615766</td>\n",
              "      <td>-0.865392</td>\n",
              "      <td>0.164101</td>\n",
              "      <td>0.322671</td>\n",
              "      <td>0.450127</td>\n",
              "      <td>-1.400570</td>\n",
              "      <td>-1.370484</td>\n",
              "      <td>1.205577</td>\n",
              "      <td>0.188958</td>\n",
              "      <td>0.918747</td>\n",
              "      <td>1.530503</td>\n",
              "      <td>-0.500680</td>\n",
              "      <td>0.053758</td>\n",
              "      <td>-0.174198</td>\n",
              "      <td>-0.164827</td>\n",
              "      <td>-0.874465</td>\n",
              "      <td>-0.582092</td>\n",
              "      <td>2.408538</td>\n",
              "      <td>3.213360</td>\n",
              "      <td>2.172543</td>\n",
              "      <td>2.806362</td>\n",
              "      <td>0.369598</td>\n",
              "      <td>0.988783</td>\n",
              "      <td>0.610780</td>\n",
              "      <td>0.729259</td>\n",
              "      <td>-0.303748</td>\n",
              "      <td>-0.458057</td>\n",
              "      <td>0</td>\n",
              "    </tr>\n",
              "    <tr>\n",
              "      <th>14</th>\n",
              "      <td>-0.112836</td>\n",
              "      <td>0.772668</td>\n",
              "      <td>0.067180</td>\n",
              "      <td>-0.217827</td>\n",
              "      <td>1.191289</td>\n",
              "      <td>2.368158</td>\n",
              "      <td>1.556825</td>\n",
              "      <td>0.808147</td>\n",
              "      <td>0.939685</td>\n",
              "      <td>1.987820</td>\n",
              "      <td>-0.696838</td>\n",
              "      <td>-0.086823</td>\n",
              "      <td>-0.398529</td>\n",
              "      <td>-0.464832</td>\n",
              "      <td>-0.204001</td>\n",
              "      <td>1.893642</td>\n",
              "      <td>0.766467</td>\n",
              "      <td>0.727326</td>\n",
              "      <td>-0.112881</td>\n",
              "      <td>1.625761</td>\n",
              "      <td>-0.256615</td>\n",
              "      <td>1.031253</td>\n",
              "      <td>0.045834</td>\n",
              "      <td>-0.321493</td>\n",
              "      <td>1.434810</td>\n",
              "      <td>3.296698</td>\n",
              "      <td>2.025090</td>\n",
              "      <td>1.616970</td>\n",
              "      <td>1.124753</td>\n",
              "      <td>3.278077</td>\n",
              "      <td>0</td>\n",
              "    </tr>\n",
              "    <tr>\n",
              "      <th>386</th>\n",
              "      <td>-0.544538</td>\n",
              "      <td>-1.209993</td>\n",
              "      <td>-0.543259</td>\n",
              "      <td>-0.548596</td>\n",
              "      <td>-1.087428</td>\n",
              "      <td>-0.494842</td>\n",
              "      <td>-0.256238</td>\n",
              "      <td>-0.608200</td>\n",
              "      <td>-0.604664</td>\n",
              "      <td>-0.178279</td>\n",
              "      <td>-0.500136</td>\n",
              "      <td>-0.700252</td>\n",
              "      <td>-0.380708</td>\n",
              "      <td>-0.448331</td>\n",
              "      <td>-0.878695</td>\n",
              "      <td>0.267256</td>\n",
              "      <td>0.382840</td>\n",
              "      <td>-0.150228</td>\n",
              "      <td>-0.161313</td>\n",
              "      <td>0.312850</td>\n",
              "      <td>-0.650071</td>\n",
              "      <td>-1.040120</td>\n",
              "      <td>-0.584136</td>\n",
              "      <td>-0.616470</td>\n",
              "      <td>-1.304933</td>\n",
              "      <td>-0.071025</td>\n",
              "      <td>0.169888</td>\n",
              "      <td>-0.353352</td>\n",
              "      <td>-0.361988</td>\n",
              "      <td>0.237966</td>\n",
              "      <td>1</td>\n",
              "    </tr>\n",
              "    <tr>\n",
              "      <th>...</th>\n",
              "      <td>...</td>\n",
              "      <td>...</td>\n",
              "      <td>...</td>\n",
              "      <td>...</td>\n",
              "      <td>...</td>\n",
              "      <td>...</td>\n",
              "      <td>...</td>\n",
              "      <td>...</td>\n",
              "      <td>...</td>\n",
              "      <td>...</td>\n",
              "      <td>...</td>\n",
              "      <td>...</td>\n",
              "      <td>...</td>\n",
              "      <td>...</td>\n",
              "      <td>...</td>\n",
              "      <td>...</td>\n",
              "      <td>...</td>\n",
              "      <td>...</td>\n",
              "      <td>...</td>\n",
              "      <td>...</td>\n",
              "      <td>...</td>\n",
              "      <td>...</td>\n",
              "      <td>...</td>\n",
              "      <td>...</td>\n",
              "      <td>...</td>\n",
              "      <td>...</td>\n",
              "      <td>...</td>\n",
              "      <td>...</td>\n",
              "      <td>...</td>\n",
              "      <td>...</td>\n",
              "      <td>...</td>\n",
              "    </tr>\n",
              "    <tr>\n",
              "      <th>547</th>\n",
              "      <td>-1.098366</td>\n",
              "      <td>-0.630553</td>\n",
              "      <td>-1.075848</td>\n",
              "      <td>-0.950184</td>\n",
              "      <td>-0.540166</td>\n",
              "      <td>-0.448790</td>\n",
              "      <td>-0.567727</td>\n",
              "      <td>-0.632962</td>\n",
              "      <td>-0.520693</td>\n",
              "      <td>0.615579</td>\n",
              "      <td>-1.049457</td>\n",
              "      <td>-0.351717</td>\n",
              "      <td>-0.929350</td>\n",
              "      <td>-0.726300</td>\n",
              "      <td>1.076384</td>\n",
              "      <td>0.299672</td>\n",
              "      <td>-0.191108</td>\n",
              "      <td>-0.134007</td>\n",
              "      <td>0.269727</td>\n",
              "      <td>0.792473</td>\n",
              "      <td>-1.126361</td>\n",
              "      <td>-0.592299</td>\n",
              "      <td>-1.077688</td>\n",
              "      <td>-0.919710</td>\n",
              "      <td>0.601928</td>\n",
              "      <td>-0.188711</td>\n",
              "      <td>-0.450432</td>\n",
              "      <td>-0.476230</td>\n",
              "      <td>-0.339339</td>\n",
              "      <td>0.600939</td>\n",
              "      <td>1</td>\n",
              "    </tr>\n",
              "    <tr>\n",
              "      <th>88</th>\n",
              "      <td>-0.501936</td>\n",
              "      <td>0.584176</td>\n",
              "      <td>-0.502069</td>\n",
              "      <td>-0.536936</td>\n",
              "      <td>-0.614889</td>\n",
              "      <td>-0.187449</td>\n",
              "      <td>-0.359691</td>\n",
              "      <td>-0.295835</td>\n",
              "      <td>0.432204</td>\n",
              "      <td>0.176122</td>\n",
              "      <td>-0.387528</td>\n",
              "      <td>0.517354</td>\n",
              "      <td>-0.328235</td>\n",
              "      <td>-0.426549</td>\n",
              "      <td>0.023675</td>\n",
              "      <td>-0.030635</td>\n",
              "      <td>-0.161266</td>\n",
              "      <td>0.183924</td>\n",
              "      <td>-0.116514</td>\n",
              "      <td>0.252708</td>\n",
              "      <td>-0.505114</td>\n",
              "      <td>0.785359</td>\n",
              "      <td>-0.470652</td>\n",
              "      <td>-0.537716</td>\n",
              "      <td>-0.086295</td>\n",
              "      <td>-0.050669</td>\n",
              "      <td>-0.138113</td>\n",
              "      <td>0.089742</td>\n",
              "      <td>0.115258</td>\n",
              "      <td>0.480133</td>\n",
              "      <td>1</td>\n",
              "    </tr>\n",
              "    <tr>\n",
              "      <th>160</th>\n",
              "      <td>-0.675185</td>\n",
              "      <td>0.207191</td>\n",
              "      <td>-0.653649</td>\n",
              "      <td>-0.668618</td>\n",
              "      <td>0.892395</td>\n",
              "      <td>0.184948</td>\n",
              "      <td>-0.255736</td>\n",
              "      <td>-0.297641</td>\n",
              "      <td>0.662213</td>\n",
              "      <td>0.245584</td>\n",
              "      <td>0.348751</td>\n",
              "      <td>0.863894</td>\n",
              "      <td>0.524703</td>\n",
              "      <td>-0.043939</td>\n",
              "      <td>0.797373</td>\n",
              "      <td>-0.079818</td>\n",
              "      <td>0.324152</td>\n",
              "      <td>-0.044792</td>\n",
              "      <td>1.625806</td>\n",
              "      <td>0.478903</td>\n",
              "      <td>-0.610726</td>\n",
              "      <td>0.086759</td>\n",
              "      <td>-0.546606</td>\n",
              "      <td>-0.591860</td>\n",
              "      <td>0.150419</td>\n",
              "      <td>-0.413905</td>\n",
              "      <td>-0.367435</td>\n",
              "      <td>-0.540791</td>\n",
              "      <td>0.432343</td>\n",
              "      <td>-0.225865</td>\n",
              "      <td>1</td>\n",
              "    </tr>\n",
              "    <tr>\n",
              "      <th>70</th>\n",
              "      <td>1.366877</td>\n",
              "      <td>0.470149</td>\n",
              "      <td>1.302886</td>\n",
              "      <td>1.351264</td>\n",
              "      <td>-0.446227</td>\n",
              "      <td>-0.027309</td>\n",
              "      <td>0.241064</td>\n",
              "      <td>0.789060</td>\n",
              "      <td>-0.838325</td>\n",
              "      <td>-1.160679</td>\n",
              "      <td>1.384594</td>\n",
              "      <td>-0.760851</td>\n",
              "      <td>1.296951</td>\n",
              "      <td>1.225780</td>\n",
              "      <td>-0.865695</td>\n",
              "      <td>-0.500666</td>\n",
              "      <td>-0.305168</td>\n",
              "      <td>0.308825</td>\n",
              "      <td>-0.809083</td>\n",
              "      <td>-0.793157</td>\n",
              "      <td>1.779007</td>\n",
              "      <td>0.147012</td>\n",
              "      <td>1.746605</td>\n",
              "      <td>1.732277</td>\n",
              "      <td>-0.572873</td>\n",
              "      <td>-0.131459</td>\n",
              "      <td>-0.016736</td>\n",
              "      <td>0.978975</td>\n",
              "      <td>-0.565828</td>\n",
              "      <td>-1.000578</td>\n",
              "      <td>0</td>\n",
              "    </tr>\n",
              "    <tr>\n",
              "      <th>260</th>\n",
              "      <td>1.755977</td>\n",
              "      <td>1.808213</td>\n",
              "      <td>1.685955</td>\n",
              "      <td>1.800632</td>\n",
              "      <td>0.259022</td>\n",
              "      <td>0.084505</td>\n",
              "      <td>0.792227</td>\n",
              "      <td>1.145533</td>\n",
              "      <td>0.008694</td>\n",
              "      <td>-1.003325</td>\n",
              "      <td>-0.026968</td>\n",
              "      <td>-0.333573</td>\n",
              "      <td>-0.138143</td>\n",
              "      <td>0.264085</td>\n",
              "      <td>-0.666020</td>\n",
              "      <td>-0.542025</td>\n",
              "      <td>-0.355567</td>\n",
              "      <td>-0.585761</td>\n",
              "      <td>-0.935004</td>\n",
              "      <td>-0.719776</td>\n",
              "      <td>1.669253</td>\n",
              "      <td>2.195586</td>\n",
              "      <td>1.639376</td>\n",
              "      <td>1.693603</td>\n",
              "      <td>0.869327</td>\n",
              "      <td>0.255951</td>\n",
              "      <td>0.511471</td>\n",
              "      <td>0.838891</td>\n",
              "      <td>0.404840</td>\n",
              "      <td>-0.219215</td>\n",
              "      <td>0</td>\n",
              "    </tr>\n",
              "  </tbody>\n",
              "</table>\n",
              "<p>569 rows × 31 columns</p>\n",
              "</div>"
            ],
            "text/plain": [
              "     mean radius  mean texture  ...  worst fractal dimension  label\n",
              "54      0.276263      0.635371  ...                -0.289039      0\n",
              "511     0.193899     -1.068042  ...                -1.248287      1\n",
              "219     1.534446      3.067156  ...                -0.458057      0\n",
              "14     -0.112836      0.772668  ...                 3.278077      0\n",
              "386    -0.544538     -1.209993  ...                 0.237966      1\n",
              "..           ...           ...  ...                      ...    ...\n",
              "547    -1.098366     -0.630553  ...                 0.600939      1\n",
              "88     -0.501936      0.584176  ...                 0.480133      1\n",
              "160    -0.675185      0.207191  ...                -0.225865      1\n",
              "70      1.366877      0.470149  ...                -1.000578      0\n",
              "260     1.755977      1.808213  ...                -0.219215      0\n",
              "\n",
              "[569 rows x 31 columns]"
            ]
          },
          "metadata": {},
          "execution_count": 18
        }
      ]
    },
    {
      "cell_type": "code",
      "metadata": {
        "id": "2PE8HDzCkj38"
      },
      "source": [
        "#500 Training\n",
        "X_train = feature[:500]\n",
        "y_train = label[:500]\n",
        "\n",
        "#35 Validation\n",
        "X_val = feature[500:535]\n",
        "y_val = label[500:535]\n",
        "\n",
        "#34 Testing\n",
        "X_test = feature[535:]\n",
        "y_test = label[535:]"
      ],
      "execution_count": 6,
      "outputs": []
    },
    {
      "cell_type": "code",
      "metadata": {
        "id": "9Zg7kSjGkl6l"
      },
      "source": [
        "model = Sequential()\n",
        "\n",
        "model.add(Dense(15, activation = 'relu', input_dim = 30))\n",
        "model.add(Dense(10, activation = 'relu'))\n",
        "model.add(Dense(1, activation = 'sigmoid'))\n",
        "\n",
        "model.compile( loss = 'binary_crossentropy' , optimizer = 'adam' , metrics = ['accuracy'])"
      ],
      "execution_count": 7,
      "outputs": []
    },
    {
      "cell_type": "code",
      "metadata": {
        "id": "4euk5Wrbkobg",
        "colab": {
          "base_uri": "https://localhost:8080/"
        },
        "outputId": "3d7c1c13-b306-409b-9076-78576b0c2926"
      },
      "source": [
        "model.fit( X_train , y_train, epochs =16, validation_data = (X_val, y_val))"
      ],
      "execution_count": 9,
      "outputs": [
        {
          "output_type": "stream",
          "name": "stdout",
          "text": [
            "Epoch 1/16\n",
            "16/16 [==============================] - 1s 14ms/step - loss: 0.7971 - accuracy: 0.5000 - val_loss: 1.0414 - val_accuracy: 0.3143\n",
            "Epoch 2/16\n",
            "16/16 [==============================] - 0s 3ms/step - loss: 0.6008 - accuracy: 0.7300 - val_loss: 0.7895 - val_accuracy: 0.4571\n",
            "Epoch 3/16\n",
            "16/16 [==============================] - 0s 2ms/step - loss: 0.4853 - accuracy: 0.8280 - val_loss: 0.6147 - val_accuracy: 0.6857\n",
            "Epoch 4/16\n",
            "16/16 [==============================] - 0s 2ms/step - loss: 0.4033 - accuracy: 0.8900 - val_loss: 0.4999 - val_accuracy: 0.8000\n",
            "Epoch 5/16\n",
            "16/16 [==============================] - 0s 2ms/step - loss: 0.3367 - accuracy: 0.9120 - val_loss: 0.3996 - val_accuracy: 0.8000\n",
            "Epoch 6/16\n",
            "16/16 [==============================] - 0s 3ms/step - loss: 0.2799 - accuracy: 0.9320 - val_loss: 0.3139 - val_accuracy: 0.8857\n",
            "Epoch 7/16\n",
            "16/16 [==============================] - 0s 3ms/step - loss: 0.2331 - accuracy: 0.9420 - val_loss: 0.2523 - val_accuracy: 0.9143\n",
            "Epoch 8/16\n",
            "16/16 [==============================] - 0s 3ms/step - loss: 0.1979 - accuracy: 0.9480 - val_loss: 0.2050 - val_accuracy: 0.9714\n",
            "Epoch 9/16\n",
            "16/16 [==============================] - 0s 3ms/step - loss: 0.1718 - accuracy: 0.9480 - val_loss: 0.1713 - val_accuracy: 0.9714\n",
            "Epoch 10/16\n",
            "16/16 [==============================] - 0s 3ms/step - loss: 0.1519 - accuracy: 0.9600 - val_loss: 0.1466 - val_accuracy: 0.9714\n",
            "Epoch 11/16\n",
            "16/16 [==============================] - 0s 3ms/step - loss: 0.1358 - accuracy: 0.9640 - val_loss: 0.1270 - val_accuracy: 0.9714\n",
            "Epoch 12/16\n",
            "16/16 [==============================] - 0s 3ms/step - loss: 0.1225 - accuracy: 0.9720 - val_loss: 0.1130 - val_accuracy: 0.9714\n",
            "Epoch 13/16\n",
            "16/16 [==============================] - 0s 3ms/step - loss: 0.1118 - accuracy: 0.9740 - val_loss: 0.1026 - val_accuracy: 0.9714\n",
            "Epoch 14/16\n",
            "16/16 [==============================] - 0s 3ms/step - loss: 0.1028 - accuracy: 0.9760 - val_loss: 0.0955 - val_accuracy: 0.9714\n",
            "Epoch 15/16\n",
            "16/16 [==============================] - 0s 3ms/step - loss: 0.0955 - accuracy: 0.9780 - val_loss: 0.0884 - val_accuracy: 1.0000\n",
            "Epoch 16/16\n",
            "16/16 [==============================] - 0s 3ms/step - loss: 0.0899 - accuracy: 0.9780 - val_loss: 0.0822 - val_accuracy: 1.0000\n"
          ]
        },
        {
          "output_type": "execute_result",
          "data": {
            "text/plain": [
              "<keras.callbacks.History at 0x7f999517cb50>"
            ]
          },
          "metadata": {},
          "execution_count": 9
        }
      ]
    },
    {
      "cell_type": "code",
      "metadata": {
        "id": "PkhiOAaIkqxn",
        "colab": {
          "base_uri": "https://localhost:8080/"
        },
        "outputId": "155c77e2-11bd-4e1f-aeab-4d5906b04883"
      },
      "source": [
        "model.evaluate(X_test , y_test)"
      ],
      "execution_count": 10,
      "outputs": [
        {
          "output_type": "stream",
          "name": "stdout",
          "text": [
            "2/2 [==============================] - 0s 5ms/step - loss: 0.1215 - accuracy: 0.9706\n"
          ]
        },
        {
          "output_type": "execute_result",
          "data": {
            "text/plain": [
              "[0.12151520699262619, 0.970588207244873]"
            ]
          },
          "metadata": {},
          "execution_count": 10
        }
      ]
    },
    {
      "cell_type": "code",
      "metadata": {
        "id": "vROoqCQrks_5",
        "colab": {
          "base_uri": "https://localhost:8080/"
        },
        "outputId": "4d0636bc-7f0e-4a10-99f3-b97ed553f5b5"
      },
      "source": [
        "model.evaluate(X_val , y_val)"
      ],
      "execution_count": 11,
      "outputs": [
        {
          "output_type": "stream",
          "name": "stdout",
          "text": [
            "2/2 [==============================] - 0s 4ms/step - loss: 0.0822 - accuracy: 1.0000\n"
          ]
        },
        {
          "output_type": "execute_result",
          "data": {
            "text/plain": [
              "[0.08217304199934006, 1.0]"
            ]
          },
          "metadata": {},
          "execution_count": 11
        }
      ]
    },
    {
      "cell_type": "code",
      "metadata": {
        "id": "5Gk9YlLskxXJ",
        "colab": {
          "base_uri": "https://localhost:8080/"
        },
        "outputId": "dfedd80b-0c16-4835-a327-8b211ebedcf4"
      },
      "source": [
        "for i in range(30):\n",
        "  sample = X_test[i]\n",
        "  sample = np.reshape(sample, (1,30))\n",
        "\n",
        "  if (model.predict(sample)[0][0] > 0.5):\n",
        "    print(\"-Benign\")\n",
        "  else:\n",
        "    print(\"-Malignant\")\n",
        "\n",
        "  if (y_test[i] == 1):\n",
        "    print(\"*Banign\")\n",
        "  else:\n",
        "    print(\"*Melignant\")\n",
        "  print(\"-----------\")"
      ],
      "execution_count": 12,
      "outputs": [
        {
          "output_type": "stream",
          "name": "stdout",
          "text": [
            "-Malignant\n",
            "*Melignant\n",
            "-----------\n",
            "-Malignant\n",
            "*Melignant\n",
            "-----------\n",
            "-Benign\n",
            "*Banign\n",
            "-----------\n",
            "-Benign\n",
            "*Banign\n",
            "-----------\n",
            "-Benign\n",
            "*Banign\n",
            "-----------\n",
            "-Benign\n",
            "*Banign\n",
            "-----------\n",
            "-Benign\n",
            "*Banign\n",
            "-----------\n",
            "-Benign\n",
            "*Banign\n",
            "-----------\n",
            "-Benign\n",
            "*Banign\n",
            "-----------\n",
            "-Benign\n",
            "*Banign\n",
            "-----------\n",
            "-Benign\n",
            "*Banign\n",
            "-----------\n",
            "-Benign\n",
            "*Banign\n",
            "-----------\n",
            "-Benign\n",
            "*Banign\n",
            "-----------\n",
            "-Benign\n",
            "*Banign\n",
            "-----------\n",
            "-Benign\n",
            "*Banign\n",
            "-----------\n",
            "-Benign\n",
            "*Banign\n",
            "-----------\n",
            "-Benign\n",
            "*Banign\n",
            "-----------\n",
            "-Benign\n",
            "*Banign\n",
            "-----------\n",
            "-Benign\n",
            "*Banign\n",
            "-----------\n",
            "-Benign\n",
            "*Banign\n",
            "-----------\n",
            "-Benign\n",
            "*Banign\n",
            "-----------\n",
            "-Benign\n",
            "*Banign\n",
            "-----------\n",
            "-Benign\n",
            "*Banign\n",
            "-----------\n",
            "-Benign\n",
            "*Banign\n",
            "-----------\n",
            "-Benign\n",
            "*Banign\n",
            "-----------\n",
            "-Malignant\n",
            "*Banign\n",
            "-----------\n",
            "-Benign\n",
            "*Banign\n",
            "-----------\n",
            "-Malignant\n",
            "*Melignant\n",
            "-----------\n",
            "-Malignant\n",
            "*Melignant\n",
            "-----------\n",
            "-Malignant\n",
            "*Melignant\n",
            "-----------\n"
          ]
        }
      ]
    }
  ]
}